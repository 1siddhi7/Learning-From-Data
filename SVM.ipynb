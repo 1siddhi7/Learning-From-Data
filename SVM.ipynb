{
  "nbformat": 4,
  "nbformat_minor": 0,
  "metadata": {
    "colab": {
      "name": "SVM.ipynb",
      "version": "0.3.2",
      "provenance": [],
      "collapsed_sections": [],
      "include_colab_link": true
    },
    "kernelspec": {
      "name": "python3",
      "display_name": "Python 3"
    }
  },
  "cells": [
    {
      "cell_type": "markdown",
      "metadata": {
        "id": "view-in-github",
        "colab_type": "text"
      },
      "source": [
        "<a href=\"https://colab.research.google.com/github/1siddhi7/Learning-From-Data/blob/master/SVM.ipynb\" target=\"_parent\"><img src=\"https://colab.research.google.com/assets/colab-badge.svg\" alt=\"Open In Colab\"/></a>"
      ]
    },
    {
      "cell_type": "markdown",
      "metadata": {
        "id": "JGwXYuLaC0iW",
        "colab_type": "text"
      },
      "source": [
        "## **Introduction to SVM:**\n",
        "\n",
        "---\n",
        "\n",
        "\n",
        "Support Vector Machine (SVM) is a model that is used for classification. The concept is similar to that of the perceptron learning algorithm(PLA); we find a hyperplane which acts as a decision boundary between various classes). \n",
        "\n",
        "Any of the hyperplane correctly classifying the data can be valid decision boundary given by PLA; but SVM is based on the idea of finding a hyperplane that best divides a dataset into the given classes (it does so by maximizing the margin)."
      ]
    },
    {
      "cell_type": "code",
      "metadata": {
        "id": "rnRg9SxPHOYt",
        "colab_type": "code",
        "outputId": "863b5f2e-3728-4fd7-b8bb-ab025a0fa5f1",
        "colab": {
          "base_uri": "https://localhost:8080/",
          "height": 235
        }
      },
      "source": [
        "#Importing libraries\n",
        "import numpy as np\n",
        "import random\n",
        "import matplotlib.pyplot as plt\n",
        "!pip install qpsolvers\n",
        "from cvxopt import matrix, solvers\n",
        "from qpsolvers import solve_qp\n",
        "import copy"
      ],
      "execution_count": 1,
      "outputs": [
        {
          "output_type": "stream",
          "text": [
            "Collecting qpsolvers\n",
            "  Downloading https://files.pythonhosted.org/packages/1b/16/2f4d3463631cdba7192d812dae1b2595ce6ed0854685efcdc23ef761876d/qpsolvers-1.0.5.tar.gz\n",
            "Collecting quadprog (from qpsolvers)\n",
            "\u001b[?25l  Downloading https://files.pythonhosted.org/packages/24/fb/816f87f1b9648231b51012758b1d8fa3043ee1a428e3dbb64c6e6a42b6b9/quadprog-0.1.6.tar.gz (107kB)\n",
            "\u001b[K     |████████████████████████████████| 112kB 6.7MB/s \n",
            "\u001b[?25hBuilding wheels for collected packages: qpsolvers, quadprog\n",
            "  Building wheel for qpsolvers (setup.py) ... \u001b[?25l\u001b[?25hdone\n",
            "  Stored in directory: /root/.cache/pip/wheels/32/17/21/1817f8d462d4a3ae6a3d6b092072d249637f48b3154e7324d0\n",
            "  Building wheel for quadprog (setup.py) ... \u001b[?25l\u001b[?25hdone\n",
            "  Stored in directory: /root/.cache/pip/wheels/d9/07/7d/e7bad9eca17affb473625d19cf17bea5b814a856eee869274f\n",
            "Successfully built qpsolvers quadprog\n",
            "Installing collected packages: quadprog, qpsolvers\n",
            "Successfully installed qpsolvers-1.0.5 quadprog-0.1.6\n"
          ],
          "name": "stdout"
        }
      ]
    },
    {
      "cell_type": "code",
      "metadata": {
        "id": "jIIpPzuSH9YA",
        "colab_type": "code",
        "colab": {}
      },
      "source": [
        "def gen_data():\n",
        "  \n",
        "  '''function to generate linearly separable dataset'''\n",
        "  x_l = np.random.uniform(-5,5,200)\n",
        "  y_l = 5*x_l + 3 + np.random.uniform(5,15,200)\n",
        "  xl = list(x_l)\n",
        "  yl = list(y_l)\n",
        "\n",
        "  data = []\n",
        "  for i in range(200):\n",
        "    data.append([[1,xl[i],yl[i]],1])\n",
        "\n",
        "  x_r = np.random.uniform(-5,5,200)\n",
        "  y_r = 5*x_r + 3 - np.random.uniform(5,15,200)\n",
        "  xr = list(x_r)\n",
        "  yr = list(y_r)\n",
        "\n",
        "  for i in range(200):\n",
        "    data.append([[1,xr[i],yr[i]],-1])\n",
        "  \n",
        "  random.shuffle(data)\n",
        "  return data"
      ],
      "execution_count": 0,
      "outputs": []
    },
    {
      "cell_type": "code",
      "metadata": {
        "id": "EM3u1XcuCAi-",
        "colab_type": "code",
        "outputId": "d6c37e38-df4a-424d-d6db-6a1efa555de4",
        "colab": {
          "base_uri": "https://localhost:8080/",
          "height": 283
        }
      },
      "source": [
        "#generating linearly separable data\n",
        "data = gen_data()\n",
        "\n",
        "#using 75% of the data for training\n",
        "cut_point = int(len(data) * 0.75)\n",
        "train_data=data[:cut_point]\n",
        "\n",
        "#using remaining 25% of the data for testing\n",
        "test_data=data[cut_point:]\n",
        "x_green = []\n",
        "y_green = []\n",
        "x_red = []\n",
        "y_red = []\n",
        "for i in range(len(train_data)):\n",
        "    if(train_data[i][1]==1):\n",
        "        x_green.append(train_data[i][0][1])\n",
        "        y_green.append(train_data[i][0][2])\n",
        "    elif (train_data[i][1]==-1):\n",
        "        x_red.append(train_data[i][0][1])\n",
        "        y_red.append(train_data[i][0][2])\n",
        "        \n",
        "plt.scatter(x_green, y_green, color='green', s=2,label=\"output : 1\")\n",
        "plt.scatter(x_red, y_red, color='red', s=2,label=\"output : -1\")\n",
        "plt.xlabel('x')\n",
        "plt.ylabel('y')\n",
        "plt.legend()\n",
        "plt.show()"
      ],
      "execution_count": 4,
      "outputs": [
        {
          "output_type": "display_data",
          "data": {
            "image/png": "[encoded data removed]",
            "text/plain": [
              "<Figure size 432x288 with 1 Axes>"
            ]
          },
          "metadata": {
            "tags": []
          }
        }
      ]
    },
    {
      "cell_type": "markdown",
      "metadata": {
        "id": "oS7zhgv67Bv8",
        "colab_type": "text"
      },
      "source": [
        "Linearly separable data generated can be visualized from the above plot."
      ]
    },
    {
      "cell_type": "markdown",
      "metadata": {
        "id": "MhJ532pWJjXs",
        "colab_type": "text"
      },
      "source": [
        "## Implementing PLA on linearly separable data generated above:"
      ]
    },
    {
      "cell_type": "code",
      "metadata": {
        "id": "WryzG-tmXnZs",
        "colab_type": "code",
        "colab": {}
      },
      "source": [
        "def sign(x):\n",
        "    if x>=0:\n",
        "        return 1\n",
        "    if x<0:\n",
        "        return -1\n",
        "\n",
        "#defining a function which returns 1 if there is\n",
        "#even a single misclassified point in the predicted\n",
        "#output and returns 0 if there is no misclassified point.\n",
        "def misclassified(data,weights):\n",
        "    flag=0\n",
        "    for i in range(len(data)):\n",
        "        x=np.array(data[i][0])\n",
        "        y=data[i][1]\n",
        "        if(sign(np.matmul(weights.T,x))!=y):\n",
        "            flag=1\n",
        "            break\n",
        "    return flag\n",
        "\n",
        "def perceptron(train_data):\n",
        "  \n",
        "  weights=np.array([0,0,0])  #initializing the weights vector\n",
        "\n",
        "  error=[]\n",
        "  iteration=0\n",
        "  e=0\n",
        "\n",
        "  for j in range(len(train_data)):\n",
        "    x=np.array(train_data[j][0])\n",
        "    yn=train_data[j][1]\n",
        "    yn_predicted=sign(np.matmul(weights.T,x))\n",
        "    e = e + (yn-yn_predicted)**2\n",
        "  e=e**0.5  #the initial root mean square error with weights vector as 0 vector\n",
        "\n",
        "  error.append([iteration,e])\n",
        "\n",
        "  #training using pla; it surely converges for linearly separable data   \n",
        "  while(misclassified(train_data,weights)):\n",
        "    \n",
        "    for i in range(len(train_data)):\n",
        "        x=np.array(train_data[i][0])\n",
        "        yn=train_data[i][1]\n",
        "        flag=0\n",
        "        if(sign(np.matmul(weights.T,x))!=yn):\n",
        "            \n",
        "            flag=1\n",
        "            \n",
        "            iteration=iteration+1\n",
        "            \n",
        "            weights=weights+yn*x\n",
        "\n",
        "        if(flag==1):\n",
        "            e=0\n",
        "            for j in range(len(train_data)):\n",
        "                x=np.array(train_data[j][0])\n",
        "                yn=train_data[j][1]\n",
        "                yn_predicted=sign(np.matmul(weights.T,x))\n",
        "                e = e + (yn-yn_predicted)**2\n",
        "            e=e**0.5      \n",
        "            \n",
        "            error.append([iteration,e])\n",
        "        if(flag==1):\n",
        "            break\n",
        "\n",
        "  return weights\n",
        "  \n",
        "  \n",
        "weights_perceptron = perceptron(train_data)"
      ],
      "execution_count": 0,
      "outputs": []
    },
    {
      "cell_type": "markdown",
      "metadata": {
        "id": "5S2xfcp1J-5c",
        "colab_type": "text"
      },
      "source": [
        "## Visualizing the decision boundary generated by PLA:"
      ]
    },
    {
      "cell_type": "code",
      "metadata": {
        "id": "lm6o3N0BYaPN",
        "colab_type": "code",
        "outputId": "49229669-3535-4c34-9590-c7793a5d8896",
        "colab": {
          "base_uri": "https://localhost:8080/",
          "height": 283
        }
      },
      "source": [
        "#plotting the decision boundary with training data points\n",
        "plt.scatter(x_green, y_green, color='green', s=2,label=\"output : 1\")\n",
        "plt.scatter(x_red, y_red, color='red', s=2,label=\"output : -1\")\n",
        "\n",
        "x_boundary = np.linspace(-5,5,2)\n",
        "y_boundary = (-weights_perceptron[1]/weights_perceptron[2])*x_boundary +(-weights_perceptron[0]/weights_perceptron[2])\n",
        "\n",
        "plt.plot(x_boundary, y_boundary, color='blue', linewidth = 2, marker='o', \n",
        "         markerfacecolor='blue', markersize=0,\n",
        "         label=\"perceptron decision boundary\")\n",
        "\n",
        "\n",
        "plt.xlabel('x')\n",
        "plt.ylabel('y')\n",
        "plt.legend()\n",
        "plt.show()\n"
      ],
      "execution_count": 7,
      "outputs": [
        {
          "output_type": "display_data",
          "data": {
            "image/png": "[encoded data removed]",
            "text/plain": [
              "<Figure size 432x288 with 1 Axes>"
            ]
          },
          "metadata": {
            "tags": []
          }
        }
      ]
    },
    {
      "cell_type": "markdown",
      "metadata": {
        "id": "dZubwghS_lYV",
        "colab_type": "text"
      },
      "source": [
        "The above plot shows the decision boundary generated by PLA and the training data points."
      ]
    },
    {
      "cell_type": "code",
      "metadata": {
        "id": "JcWIT0zh44tV",
        "colab_type": "code",
        "outputId": "9a53a564-1034-4ec7-833f-2bf234c051cf",
        "colab": {
          "base_uri": "https://localhost:8080/",
          "height": 283
        }
      },
      "source": [
        "#plotting the decision boundary with testing data points\n",
        "x_green_test = []\n",
        "y_green_test = []\n",
        "x_red_test = []\n",
        "y_red_test = []\n",
        "for i in range(len(test_data)):\n",
        "    if(test_data[i][1]==1):\n",
        "        x_green_test.append(test_data[i][0][1])\n",
        "        y_green_test.append(test_data[i][0][2])\n",
        "    elif (test_data[i][1]==-1):\n",
        "        x_red_test.append(test_data[i][0][1])\n",
        "        y_red_test.append(test_data[i][0][2])\n",
        "      \n",
        "plt.scatter(x_green_test, y_green_test, color='green', s=2,label=\"output : 1\")\n",
        "plt.scatter(x_red_test, y_red_test, color='red', s=2,label=\"output : -1\")\n",
        "plt.plot(x_boundary, y_boundary, color='blue', linewidth = 2, marker='o', \n",
        "         markerfacecolor='blue', markersize=0,\n",
        "         label=\"perceptron decision boundary\")\n",
        "\n",
        "#plt.plot([-5,5],[-22,28],color='yellow', linewidth = 2, marker='o', \n",
        "#markerfacecolor='blue', markersize=0,label=\"original separation line\")\n",
        "plt.xlabel('x')\n",
        "plt.ylabel('y')\n",
        "plt.legend()\n",
        "plt.show()"
      ],
      "execution_count": 8,
      "outputs": [
        {
          "output_type": "display_data",
          "data": {
            "image/png": "[encoded data removed]",
            "text/plain": [
              "<Figure size 432x288 with 1 Axes>"
            ]
          },
          "metadata": {
            "tags": []
          }
        }
      ]
    },
    {
      "cell_type": "markdown",
      "metadata": {
        "id": "ZY10F_NqAWSV",
        "colab_type": "text"
      },
      "source": [
        "The above plot shows the decision boundary generated by PLA and the testing data points."
      ]
    },
    {
      "cell_type": "markdown",
      "metadata": {
        "id": "VsyG92X8NyNs",
        "colab_type": "text"
      },
      "source": [
        "## **Implementing hard-margin SVM algorithm on the linearly separable data generated above:**"
      ]
    },
    {
      "cell_type": "code",
      "metadata": {
        "id": "i9NB7cfJGToo",
        "colab_type": "code",
        "colab": {}
      },
      "source": [
        "def svm(train_data):\n",
        "  \n",
        "  N = len(train_data)\n",
        "  P = []\n",
        "\n",
        "  for i in range(N):\n",
        "    for j in range(N):\n",
        "      P.append(train_data[j][1]*train_data[i][1]*(np.dot(train_data[j][0][1:],\n",
        "                                                         train_data[i][0][1:])))\n",
        "    \n",
        "  P = matrix(P,(N,N))\n",
        "\n",
        "  q = np.ones((N,))*-1\n",
        "  q = matrix(q)\n",
        "\n",
        "  A = np.zeros((N,))\n",
        "\n",
        "  for i in range(N):\n",
        "    A[i]=(train_data[i][1])\n",
        "  \n",
        "  A = matrix(A,(1,N))\n",
        "\n",
        "\n",
        "  b = [0.0]\n",
        "  b = matrix(b)\n",
        "\n",
        "  G = np.identity(N)*-1\n",
        "  G = matrix(G)\n",
        "\n",
        "\n",
        "  h = np.zeros((N,))\n",
        "  h = matrix(h)\n",
        "\n",
        "  alpha = solvers.qp(P, q, G, h, A, b)\n",
        "\n",
        "  a = []\n",
        "  for i in range(N):\n",
        "    a.append(alpha['x'][i])\n",
        "\n",
        "  weights = [0,0]\n",
        "\n",
        "  for i in range(N):\n",
        "    weights[0] += alpha['x'][i]*train_data[i][1]*train_data[i][0][1]\n",
        "    weights[1] += alpha['x'][i]*train_data[i][1]*train_data[i][0][2]\n",
        "\n",
        "  bias = (1/train_data[a.index(max(a))][1]) - (weights[0]*train_data[a.index(max(a))][0][1] + weights[1]*train_data[a.index(max(a))][0][2])\n",
        "  \n",
        "  return weights,bias\n",
        "\n",
        "\n",
        "weights_svm,bias = svm(train_data)"
      ],
      "execution_count": 0,
      "outputs": []
    },
    {
      "cell_type": "markdown",
      "metadata": {
        "id": "fjX_pHXaO0Ar",
        "colab_type": "text"
      },
      "source": [
        "## **Visualizing the decision boundary generated by hard-margin SVM:**"
      ]
    },
    {
      "cell_type": "code",
      "metadata": {
        "id": "IKxm8W2hF9Q9",
        "colab_type": "code",
        "outputId": "4c84a8be-d18e-4fdb-a6db-2d3f316fe539",
        "colab": {
          "base_uri": "https://localhost:8080/",
          "height": 283
        }
      },
      "source": [
        "#plotting the decision boundary with training data points\n",
        "plt.scatter(x_green, y_green, color='green', s=2,label=\"output : 1\")\n",
        "plt.scatter(x_red, y_red, color='red', s=2,label=\"output : -1\")\n",
        "\n",
        "x_boundary_svm = np.linspace(-5,5,2)\n",
        "y_boundary_svm = (-weights_svm[0]/weights_svm[1])*x_boundary_svm +(-bias/weights_svm[1])\n",
        "\n",
        "plt.plot(x_boundary_svm, y_boundary_svm, color='blue', linewidth = 2, \n",
        "         marker='o', markerfacecolor='blue', markersize=0,\n",
        "         label=\"SVM decision boundary\")\n",
        "\n",
        "plt.xlabel('x')\n",
        "plt.ylabel('y')\n",
        "plt.legend()\n",
        "plt.show()"
      ],
      "execution_count": 10,
      "outputs": [
        {
          "output_type": "display_data",
          "data": {
            "image/png": "[encoded data removed]",
            "text/plain": [
              "<Figure size 432x288 with 1 Axes>"
            ]
          },
          "metadata": {
            "tags": []
          }
        }
      ]
    },
    {
      "cell_type": "markdown",
      "metadata": {
        "id": "oioPRnfYI0N6",
        "colab_type": "text"
      },
      "source": [
        "The above plot shows the decision boundary generated by hard-margin SVM and the training data points."
      ]
    },
    {
      "cell_type": "code",
      "metadata": {
        "id": "gy0aQ_iheJVD",
        "colab_type": "code",
        "outputId": "9023d1b9-ae56-4cff-f5fc-2f094e495188",
        "colab": {
          "base_uri": "https://localhost:8080/",
          "height": 283
        }
      },
      "source": [
        "#plotting the decision boundary with testing data points\n",
        "\n",
        "plt.scatter(x_green_test, y_green_test, color='green', s=2,label=\"output : 1\")\n",
        "plt.scatter(x_red_test, y_red_test, color='red', s=2,label=\"output : -1\")\n",
        "x_boundary_svm = np.linspace(-5,5,2)\n",
        "y_boundary_svm = (-weights_svm[0]/weights_svm[1])*x_boundary_svm +(-bias/weights_svm[1])\n",
        "\n",
        "plt.plot(x_boundary_svm, y_boundary_svm, color='blue', linewidth = 2, \n",
        "         marker='o', markerfacecolor='blue', markersize=0,\n",
        "         label=\"SVM decision boundary\")\n",
        "\n",
        "plt.xlabel('x')\n",
        "plt.ylabel('y')\n",
        "plt.legend()\n",
        "plt.show()"
      ],
      "execution_count": 11,
      "outputs": [
        {
          "output_type": "display_data",
          "data": {
            "image/png": "[encoded data removed]",
            "text/plain": [
              "<Figure size 432x288 with 1 Axes>"
            ]
          },
          "metadata": {
            "tags": []
          }
        }
      ]
    },
    {
      "cell_type": "markdown",
      "metadata": {
        "id": "q0x07eJJJAuW",
        "colab_type": "text"
      },
      "source": [
        "The above plot shows the decision boundary generated by hard-margin SVM and the testing data points."
      ]
    },
    {
      "cell_type": "markdown",
      "metadata": {
        "id": "PQOudmS8QAF3",
        "colab_type": "text"
      },
      "source": [
        "## **Comparing decision boundary generated by PLA and SVM:**\n"
      ]
    },
    {
      "cell_type": "code",
      "metadata": {
        "id": "tvwM9dZHQhkV",
        "colab_type": "code",
        "outputId": "9d839321-61b0-4ebd-e133-83363d2dce9b",
        "colab": {
          "base_uri": "https://localhost:8080/",
          "height": 283
        }
      },
      "source": [
        "plt.scatter(x_green, y_green, color='green', s=2,label=\"output : 1\")\n",
        "plt.scatter(x_red, y_red, color='red', s=2,label=\"output : -1\")\n",
        "\n",
        "plt.plot(x_boundary, y_boundary, color='blue', linewidth = 1, marker='o', \n",
        "         markerfacecolor='blue', markersize=0,\n",
        "         label=\"perceptron decision boundary\")\n",
        "plt.plot(x_boundary_svm, y_boundary_svm, color='black', linewidth = 1, \n",
        "         marker='o', markerfacecolor='blue', markersize=0,\n",
        "         label=\"SVM decision boundary\")\n",
        "\n",
        "plt.xlabel('x')\n",
        "plt.ylabel('y')\n",
        "plt.legend()\n",
        "plt.show()"
      ],
      "execution_count": 12,
      "outputs": [
        {
          "output_type": "display_data",
          "data": {
            "image/png": "[encoded data removed]",
            "text/plain": [
              "<Figure size 432x288 with 1 Axes>"
            ]
          },
          "metadata": {
            "tags": []
          }
        }
      ]
    },
    {
      "cell_type": "markdown",
      "metadata": {
        "id": "FkzPALcYLltI",
        "colab_type": "text"
      },
      "source": [
        "We can observe from the decision boundaries of PLA and SVM that SVM chooses a decision boundary with maximum margin; so, it will be able to handle noise (in testing data) better than PLA."
      ]
    },
    {
      "cell_type": "code",
      "metadata": {
        "id": "fudsEQG0Uojs",
        "colab_type": "code",
        "colab": {}
      },
      "source": [
        "#Error function for perceptron and SVM\n",
        "def error_perceptron(data, weights):\n",
        "  \n",
        "  e=0\n",
        "  for i in range(len(data)):\n",
        "    x = np.array(data[i][0])\n",
        "    yn = data[i][1]\n",
        "    yn_predicted = sign(np.matmul(weights.T,x))\n",
        "    e = e + (yn-yn_predicted)**2\n",
        "    \n",
        "  return e**0.5\n",
        "\n",
        "\n",
        "def error_svm(data, weights, bias):\n",
        "  \n",
        "  e=0\n",
        "  for i in range(len(data)):\n",
        "    \n",
        "    x = np.array(data[i][0])\n",
        "    yn = data[i][1]\n",
        "    \n",
        "    weights_s = np.array(weights)\n",
        "    weights_s = np.concatenate(([bias],weights_svm))\n",
        "    \n",
        "    yn_predicted = sign(np.matmul(weights_s.T,x))\n",
        "    e = e + (yn-yn_predicted)**2\n",
        "    \n",
        "  return e**0.5"
      ],
      "execution_count": 0,
      "outputs": []
    },
    {
      "cell_type": "markdown",
      "metadata": {
        "id": "zGKgevWPz8TX",
        "colab_type": "text"
      },
      "source": [
        "## **Implementing soft-margin SVM algorithm on noisy data:**\n",
        "\n",
        "Soft-margin SVM is a variant of hard-margin SVM; it can be applied on (slighty) non-linearly separable data."
      ]
    },
    {
      "cell_type": "code",
      "metadata": {
        "id": "kGVgnMMQSDou",
        "colab_type": "code",
        "colab": {}
      },
      "source": [
        "def add_noise(data, sd):\n",
        "  \n",
        "  '''function to add gaussian noise with mean=0 and \n",
        "  standard deviation=sd in the data'''\n",
        "  \n",
        "  ans = copy.deepcopy(data)\n",
        "  noise_x = np.random.normal(0, sd, (len(data),))\n",
        "  noise_y = np.random.normal(0, sd*10, (len(data),))\n",
        "  \n",
        "  for i in range(len(data)):\n",
        "    \n",
        "    ans[i][0][1] += noise_x[i]\n",
        "    ans[i][0][2] += noise_y[i]\n",
        "    \n",
        "  return list(ans)\n"
      ],
      "execution_count": 0,
      "outputs": []
    },
    {
      "cell_type": "code",
      "metadata": {
        "id": "xeuI-tkvPkaz",
        "colab_type": "code",
        "colab": {}
      },
      "source": [
        "def svm_soft(train_data, c):\n",
        "  \n",
        "  N = len(train_data)\n",
        "  P = []\n",
        "\n",
        "  for i in range(N):\n",
        "    for j in range(N):\n",
        "      P.append(train_data[j][1]*train_data[i][1]*(np.dot(train_data[j][0][1:],\n",
        "                                                         train_data[i][0][1:])))\n",
        "    \n",
        "  P = matrix(P,(N,N))\n",
        "\n",
        "  q = np.ones((N,))*-1\n",
        "  q = matrix(q)\n",
        "\n",
        "  A = np.zeros((N,))\n",
        "\n",
        "  for i in range(N):\n",
        "    A[i]=(train_data[i][1])\n",
        "  \n",
        "  A = matrix(A,(1,N))\n",
        "\n",
        "\n",
        "  b = [0.0]\n",
        "  b = matrix(b)\n",
        "\n",
        "  #G = np.identity(N)*-1\n",
        "  #G = matrix(G)\n",
        "\n",
        "\n",
        "  #h = np.zeros((N,))\n",
        "  #h = matrix(h)\n",
        "  \n",
        "  G = matrix(np.vstack((np.eye(N)*-1,np.eye(N))))\n",
        "  h = matrix(np.hstack((np.zeros(N), np.ones(N) * c)))\n",
        "\n",
        "  alpha = solvers.qp(P, q, G, h, A, b)\n",
        "\n",
        "  a = []\n",
        "  for i in range(N):\n",
        "    a.append(alpha['x'][i])\n",
        "\n",
        "  weights = [0,0]\n",
        "\n",
        "  for i in range(N):\n",
        "    weights[0] += alpha['x'][i]*train_data[i][1]*train_data[i][0][1]\n",
        "    weights[1] += alpha['x'][i]*train_data[i][1]*train_data[i][0][2]\n",
        "\n",
        "  bias = (1/train_data[a.index(max(a))][1]) - (weights[0]*train_data[a.index(max(a))][0][1] + weights[1]*train_data[a.index(max(a))][0][2])\n",
        "  \n",
        "  return weights,bias\n"
      ],
      "execution_count": 0,
      "outputs": []
    },
    {
      "cell_type": "markdown",
      "metadata": {
        "id": "OU9G2WbE5UGd",
        "colab_type": "text"
      },
      "source": [
        "## **Comparing the performance of PLA, hard-margin SVM and soft-margin SVM:**"
      ]
    },
    {
      "cell_type": "code",
      "metadata": {
        "id": "nVvSodjnW0dN",
        "colab_type": "code",
        "colab": {}
      },
      "source": [
        "def cross_validation(data ,c, k):\n",
        "  \n",
        "  '''returns cross validation error by applying k-fold cross validation \n",
        "     by training data with soft_svm \n",
        "  '''\n",
        "  \n",
        "  error_cv = 0\n",
        "  folds = {}\n",
        "  len_fold = int(len(data)/k)\n",
        "  \n",
        "  for i in range(k):\n",
        "    folds[i] = data[i*len_fold:(i+1)*len_fold]\n",
        "\t\n",
        "  for i in range(k):\n",
        "    data_cv = {'data_val' : folds[i]}\n",
        "    \n",
        "    l=list(range(k))\n",
        "    l.pop(i)\n",
        "    data_train = folds[l[0]]\n",
        "    l.pop(0)\n",
        "\t\t\n",
        "    for item in l:\n",
        "      data_train = data_train + folds[item]\n",
        "    \n",
        "    data_cv['data_train'] = data_train\n",
        "\t\t\n",
        "    weights, bias = svm_soft(data_cv['data_train'], c)\n",
        "    error = error_svm(data_cv['data_val'], weights, bias)\n",
        "    error_cv = error_cv + error\n",
        "   \n",
        "  return error_cv/k\n",
        "    \n",
        "  \n",
        "  \n",
        "def solve_svm_soft(data, k):\n",
        "  \n",
        "  '''returns final weights and bias by choosing appropriate value of c \n",
        "  using cross validation\n",
        "  '''\n",
        "  C = [0,1,2,3,4,5,6,7,8,9,10]\n",
        "\n",
        "  cv_e = []\n",
        "  for item in C:\n",
        "  \n",
        "    e = cross_validation(data, item, k)\n",
        "    cv_e.append(e)\n",
        "    \n",
        "  weights, bias = svm_soft(data, C[cv_e.index(min(cv_e))])\n",
        "  return weights, bias\n",
        "\n",
        "\n",
        "sd_noise = np.linspace(0,0.5,10)\n",
        "\n",
        "w_ssvm = np.zeros((sd_noise.shape[0],2))\n",
        "b_ssvm = np.zeros((sd_noise.shape[0],))\n",
        "\n",
        "\n",
        "for i in range(sd_noise.shape[0]):\n",
        "  \n",
        "  data_n = add_noise(train_data, sd_noise[i])\n",
        "    \n",
        "  weights_ssvm, bias_s = solve_svm_soft(data_n, 5)\n",
        "  w_ssvm[i] = weights_ssvm\n",
        "  b_ssvm[i] = bias_s"
      ],
      "execution_count": 0,
      "outputs": []
    },
    {
      "cell_type": "code",
      "metadata": {
        "id": "Snu327THKHSf",
        "colab_type": "code",
        "outputId": "6140cf79-b36f-43fd-99f9-733df9ba91f1",
        "colab": {
          "base_uri": "https://localhost:8080/",
          "height": 283
        }
      },
      "source": [
        "sd_noise = np.linspace(0,0.5,10)\n",
        "\n",
        "errors_p = np.zeros((50,10))\n",
        "errors_s = np.zeros((50,10))\n",
        "errors_ss = np.zeros((50,10))\n",
        "\n",
        "for i in range(50):\n",
        "  \n",
        "  e_p=[]\n",
        "  e_s=[]\n",
        "  e_ss=[]\n",
        "  \n",
        "  for j in range(sd_noise.shape[0]):\n",
        "    \n",
        "    test_data_noisy = add_noise(test_data, sd_noise[j])\n",
        "    \n",
        "    e_p.append(error_perceptron(test_data_noisy, weights_perceptron))\n",
        "   \n",
        "    e_s.append(error_svm(test_data_noisy, weights_svm, bias))\n",
        "    e_ss.append(error_svm(test_data_noisy, w_ssvm[j], b_ssvm[j]))\n",
        "  \n",
        "  \n",
        "  errors_p[i] = np.array(e_p)\n",
        "  errors_s[i] = np.array(e_s)\n",
        "  errors_ss[i] = np.array(e_ss)\n",
        "  \n",
        "  \n",
        "e_p_avg = np.mean(errors_p,axis = 0)\n",
        "e_s_avg = np.mean(errors_s,axis = 0)\n",
        "e_p_sd = np.std(errors_p,axis = 0)\n",
        "e_s_sd = np.std(errors_s,axis = 0)\n",
        "e_ss_avg = np.mean(errors_ss,axis = 0)\n",
        "e_ss_sd = np.std(errors_ss,axis = 0)\n",
        "\n",
        "plt.errorbar(sd_noise, e_p_avg, yerr = e_p_sd,color='red', ecolor='purple',\n",
        "             marker='*',markersize=5,capsize=3,label='avg_error_perceptron')\n",
        "plt.xlabel(\"standard deviation of noise in x\")\n",
        "plt.ylabel(\"test error\")\n",
        "  \n",
        "plt.errorbar(sd_noise, e_s_avg, yerr = e_s_sd, color = 'green', ecolor='black',\n",
        "             marker='*',markersize=5,capsize=3,label='avg_error_svm')\n",
        "plt.errorbar(sd_noise, e_ss_avg, yerr = e_ss_sd,color='blue', ecolor='magenta',\n",
        "             marker='*',markersize=5,capsize=3,label='avg_error_soft_svm')\n",
        "\n",
        "plt.legend()\n",
        "plt.show()\n",
        "  "
      ],
      "execution_count": 0,
      "outputs": [
        {
          "output_type": "display_data",
          "data": {
            "image/png": "[encoded data removed]",
            "text/plain": [
              "<Figure size 432x288 with 1 Axes>"
            ]
          },
          "metadata": {
            "tags": []
          }
        }
      ]
    },
    {
      "cell_type": "markdown",
      "metadata": {
        "id": "KThMaUeH5HV7",
        "colab_type": "text"
      },
      "source": [
        "The above plot shows the change in the testing error for all the 3 models(i.e., PLA, hard-margin SVM and soft-margin SVM) w.r.t. the increase in noise in the testing data. \n",
        "\n",
        "I've trained PLA and hard-margin SVM on noise less data whereas soft-margin SVM has been trained on noisy data.\n",
        "\n",
        "It can be observed from the above plot that with an increase in noise in the test data, the test error increases for all the 3 models. However, the the increase in test error is sharper in PLA as compared to SVM. This is because SVM can handle the noise in a much better way as compared to PLA. It can be noticed that for first 3 data points (i.e., for slight noise in test data ), test error of SVM does not increase at all, making SVM a robust model for classification of data that is almost linearly separable. "
      ]
    }
  ]
}