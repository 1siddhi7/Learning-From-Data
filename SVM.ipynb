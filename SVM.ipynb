{
  "nbformat": 4,
  "nbformat_minor": 0,
  "metadata": {
    "colab": {
      "name": "SVM.ipynb",
      "version": "0.3.2",
      "provenance": [],
      "collapsed_sections": [],
      "include_colab_link": true
    },
    "kernelspec": {
      "name": "python3",
      "display_name": "Python 3"
    }
  },
  "cells": [
    {
      "cell_type": "markdown",
      "metadata": {
        "id": "view-in-github",
        "colab_type": "text"
      },
      "source": [
        "<a href=\"https://colab.research.google.com/github/1siddhi7/Learning-From-Data/blob/master/SVM.ipynb\" target=\"_parent\"><img src=\"https://colab.research.google.com/assets/colab-badge.svg\" alt=\"Open In Colab\"/></a>"
      ]
    },
    {
      "cell_type": "code",
      "metadata": {
        "id": "rnRg9SxPHOYt",
        "colab_type": "code",
        "outputId": "251511bb-9985-4809-e5c6-2d614036b957",
        "colab": {
          "base_uri": "https://localhost:8080/",
          "height": 50
        }
      },
      "source": [
        "import numpy as np\n",
        "import random\n",
        "import matplotlib.pyplot as plt\n",
        "!pip install qpsolvers"
      ],
      "execution_count": 19,
      "outputs": [
        {
          "output_type": "stream",
          "text": [
            "Requirement already satisfied: qpsolvers in /usr/local/lib/python3.6/dist-packages (1.0.5)\n",
            "Requirement already satisfied: quadprog in /usr/local/lib/python3.6/dist-packages (from qpsolvers) (0.1.6)\n"
          ],
          "name": "stdout"
        }
      ]
    },
    {
      "cell_type": "code",
      "metadata": {
        "id": "jIIpPzuSH9YA",
        "colab_type": "code",
        "outputId": "db1bf8da-623c-4bf9-f0e8-8be9cf42a322",
        "colab": {
          "base_uri": "https://localhost:8080/",
          "height": 269
        }
      },
      "source": [
        "#Generating linearly separable dataset\n",
        "\n",
        "x_l = np.random.uniform(-5,5,60)\n",
        "y_l = 5*x_l + 3 + np.random.uniform(5,15,60)\n",
        "xl = list(x_l)\n",
        "yl = list(y_l)\n",
        "\n",
        "x=[]\n",
        "y=[]\n",
        "\n",
        "data = []\n",
        "for i in range(60):\n",
        "  data.append([[1,xl[i],yl[i]],1])\n",
        "  x.append([xl[i],yl[i]])\n",
        "  y.append(yl[i])\n",
        "\n",
        "x_r = np.random.uniform(-5,5,60)\n",
        "y_r = 5*x_r + 3 - np.random.uniform(1,15,60)\n",
        "xr = list(x_r)\n",
        "yr = list(y_r)\n",
        "\n",
        "\n",
        "\n",
        "for i in range(60):\n",
        "  data.append([[1,xr[i],yr[i]],-1])\n",
        "  x.append([xr[i],yr[i]])\n",
        "  y.append(yr[i])\n",
        "  \n",
        "plt.plot(xl, yl, color='green', linewidth = 0, marker='o', markerfacecolor='green', markersize=3,label=\"output : 1\")\n",
        "plt.plot(xr, yr, color='red', linewidth = 0, marker='o', markerfacecolor='red', markersize=3,label=\"output : -1\")\n",
        "plt.legend()\n",
        "plt.show()\n",
        "\n",
        "random.shuffle(data)"
      ],
      "execution_count": 20,
      "outputs": [
        {
          "output_type": "display_data",
          "data": {
            "image/png": "[encoded data removed]",
            "text/plain": [
              "<Figure size 432x288 with 1 Axes>"
            ]
          },
          "metadata": {
            "tags": []
          }
        }
      ]
    },
    {
      "cell_type": "code",
      "metadata": {
        "id": "WryzG-tmXnZs",
        "colab_type": "code",
        "outputId": "88c2feff-8bbe-4716-d19a-fdee8e21cd2c",
        "colab": {
          "base_uri": "https://localhost:8080/",
          "height": 34
        }
      },
      "source": [
        "#using 80% of the data for training\n",
        "cut_point = int(len(data) * 0.8)\n",
        "train_data=data[:cut_point]\n",
        "\n",
        "#using remaining 20% of the data for testing\n",
        "test_data=data[cut_point:]\n",
        "\n",
        "def sign(x):\n",
        "    if x>=0:\n",
        "        return 1\n",
        "    if x<0:\n",
        "        return -1\n",
        "\n",
        "#defining a function which returns 1 if there is\n",
        "#even a single misclassified point in the predicted\n",
        "#output and returns 0 if there is no misclassified point.\n",
        "def misclassified(data,weights):\n",
        "    flag=0\n",
        "    for i in range(len(data)):\n",
        "        x=np.array(data[i][0])\n",
        "        y=data[i][1]\n",
        "        if(sign(np.matmul(weights.T,x))!=y):\n",
        "            flag=1\n",
        "            break\n",
        "    return flag\n",
        "\n",
        "def perceptron(train_data):\n",
        "  \n",
        "  weights=np.array([0,0,0])  #initializing the weights vector\n",
        "\n",
        "  error=[]\n",
        "  iteration=0\n",
        "  e=0\n",
        "\n",
        "  for j in range(len(train_data)):\n",
        "    x=np.array(train_data[j][0])\n",
        "    yn=train_data[j][1]\n",
        "    yn_predicted=sign(np.matmul(weights.T,x))\n",
        "    e = e + (yn-yn_predicted)**2\n",
        "  e=e**0.5  #the initial root mean square error with weights vector as 0 vector\n",
        "\n",
        "  error.append([iteration,e])\n",
        "\n",
        "  #training using pla; it surely converges for linearly separable data   \n",
        "  while(misclassified(train_data,weights)):\n",
        "    \n",
        "    for i in range(len(train_data)):\n",
        "        x=np.array(train_data[i][0])\n",
        "        yn=train_data[i][1]\n",
        "        flag=0\n",
        "        if(sign(np.matmul(weights.T,x))!=yn):\n",
        "            \n",
        "            flag=1\n",
        "            \n",
        "            iteration=iteration+1\n",
        "            \n",
        "            weights=weights+yn*x\n",
        "\n",
        "        if(flag==1):\n",
        "            e=0\n",
        "            for j in range(len(train_data)):\n",
        "                x=np.array(train_data[j][0])\n",
        "                yn=train_data[j][1]\n",
        "                yn_predicted=sign(np.matmul(weights.T,x))\n",
        "                e = e + (yn-yn_predicted)**2\n",
        "            e=e**0.5      \n",
        "            \n",
        "            error.append([iteration,e])\n",
        "        if(flag==1):\n",
        "            break\n",
        "\n",
        "  return weights\n",
        "  \n",
        "  \n",
        "weights_perceptron = perceptron(train_data)\n",
        "print(weights_perceptron)"
      ],
      "execution_count": 21,
      "outputs": [
        {
          "output_type": "stream",
          "text": [
            "[-34.         -65.54473338  13.18812694]\n"
          ],
          "name": "stdout"
        }
      ]
    },
    {
      "cell_type": "code",
      "metadata": {
        "id": "lm6o3N0BYaPN",
        "colab_type": "code",
        "outputId": "a41322b9-3169-4ecf-f30e-8bf70780f3b4",
        "colab": {
          "base_uri": "https://localhost:8080/",
          "height": 269
        }
      },
      "source": [
        "x_green = []\n",
        "y_green = []\n",
        "x_red = []\n",
        "y_red = []\n",
        "for i in range(len(train_data)):\n",
        "    if(train_data[i][1]==1):\n",
        "        x_green.append(train_data[i][0][1])\n",
        "        y_green.append(train_data[i][0][2])\n",
        "    elif (train_data[i][1]==-1):\n",
        "        x_red.append(train_data[i][0][1])\n",
        "        y_red.append(train_data[i][0][2])\n",
        "        \n",
        "plt.plot(x_green, y_green, color='green', linewidth = 0, marker='o', markerfacecolor='green', markersize=2,label=\"output : 1\")\n",
        "plt.plot(x_red, y_red, color='red', linewidth = 0, marker='o', markerfacecolor='blue', markersize=2,label=\"output : -1\")\n",
        "\n",
        "x_boundary = np.linspace(-5,5,2)\n",
        "y_boundary = (-weights_perceptron[1]/weights_perceptron[2])*x_boundary +(-weights_perceptron[0]/weights_perceptron[2])\n",
        "\n",
        "plt.plot(x_boundary, y_boundary, color='blue', linewidth = 2, marker='o', markerfacecolor='blue', markersize=0,label=\"perceptron decision boundary\")\n",
        "\n",
        "plt.legend()\n",
        "plt.show()\n"
      ],
      "execution_count": 22,
      "outputs": [
        {
          "output_type": "display_data",
          "data": {
            "image/png": "[encoded data removed]",
            "text/plain": [
              "<Figure size 432x288 with 1 Axes>"
            ]
          },
          "metadata": {
            "tags": []
          }
        }
      ]
    },
    {
      "cell_type": "code",
      "metadata": {
        "id": "i9NB7cfJGToo",
        "colab_type": "code",
        "outputId": "8e9160fa-84a0-440e-a326-78fbfbf1545f",
        "colab": {
          "base_uri": "https://localhost:8080/",
          "height": 34
        }
      },
      "source": [
        "from cvxopt import matrix, solvers\n",
        "\n",
        "from qpsolvers import solve_qp\n",
        "\n",
        "def svm(train_data):\n",
        "  \n",
        "  N = len(train_data)\n",
        "  P = []\n",
        "\n",
        "  for i in range(N):\n",
        "    for j in range(N):\n",
        "      P.append(train_data[j][1]*train_data[i][1]*(np.dot(train_data[j][0][1:],train_data[i][0][1:])))\n",
        "    \n",
        "  P = matrix(P,(N,N))\n",
        "\n",
        "  q = np.ones((N,))*-1\n",
        "  q = matrix(q)\n",
        "\n",
        "  A = np.zeros((N,))\n",
        "\n",
        "  for i in range(N):\n",
        "    A[i]=(train_data[i][1])\n",
        "  \n",
        "  A = matrix(A,(1,N))\n",
        "\n",
        "\n",
        "  b = [0.0]\n",
        "  b = matrix(b)\n",
        "\n",
        "  G = np.identity(N)*-1\n",
        "  G = matrix(G)\n",
        "\n",
        "\n",
        "  h = np.zeros((N,))\n",
        "  h = matrix(h)\n",
        "\n",
        "  alpha = solvers.qp(P, q, G, h, A, b)\n",
        "\n",
        "  a = []\n",
        "  for i in range(N):\n",
        "    a.append(alpha['x'][i])\n",
        "\n",
        "  weights = [0,0]\n",
        "\n",
        "  for i in range(N):\n",
        "    weights[0] += alpha['x'][i]*train_data[i][1]*train_data[i][0][1]\n",
        "    weights[1] += alpha['x'][i]*train_data[i][1]*train_data[i][0][2]\n",
        "\n",
        "  bias = (1/train_data[a.index(max(a))][1]) - (weights[0]*train_data[a.index(max(a))][0][1] + weights[1]*train_data[a.index(max(a))][0][2])\n",
        "  \n",
        "  return weights,bias\n",
        "\n",
        "\n",
        "weights_svm,bias = svm(train_data)\n",
        "print(weights_svm,bias)\n",
        "\n"
      ],
      "execution_count": 23,
      "outputs": [
        {
          "output_type": "stream",
          "text": [
            "[-1.5927976247045408, 0.3227439731703501] -1.6542676762325117\n"
          ],
          "name": "stdout"
        }
      ]
    },
    {
      "cell_type": "code",
      "metadata": {
        "id": "IKxm8W2hF9Q9",
        "colab_type": "code",
        "colab": {
          "base_uri": "https://localhost:8080/",
          "height": 269
        },
        "outputId": "eb730c1d-680f-4f3a-abfb-ac51d2edde1a"
      },
      "source": [
        "\n",
        "        \n",
        "plt.plot(x_green, y_green, color='green', linewidth = 0, marker='o', markerfacecolor='green', markersize=2,label=\"output : 1\")\n",
        "plt.plot(x_red, y_red, color='red', linewidth = 0, marker='o', markerfacecolor='blue', markersize=2,label=\"output : -1\")\n",
        "\n",
        "x_boundary_svm = np.linspace(-5,5,2)\n",
        "y_boundary_svm = (-weights_svm[0]/weights_svm[1])*x_boundary_svm +(-bias/weights_svm[1])\n",
        "\n",
        "plt.plot(x_boundary_svm, y_boundary_svm, color='blue', linewidth = 2, marker='o', markerfacecolor='blue', markersize=0,label=\"SVM decision boundary\")\n",
        "\n",
        "plt.legend()\n",
        "plt.show()"
      ],
      "execution_count": 24,
      "outputs": [
        {
          "output_type": "display_data",
          "data": {
            "image/png": "[encoded data removed]",
            "text/plain": [
              "<Figure size 432x288 with 1 Axes>"
            ]
          },
          "metadata": {
            "tags": []
          }
        }
      ]
    },
    {
      "cell_type": "code",
      "metadata": {
        "id": "tvwM9dZHQhkV",
        "colab_type": "code",
        "colab": {
          "base_uri": "https://localhost:8080/",
          "height": 269
        },
        "outputId": "4e1eb962-b8cd-4596-a384-709bed450806"
      },
      "source": [
        "#Comparing perceptron and SVM decision boundary\n",
        "\n",
        "plt.plot(x_green, y_green, color='green', linewidth = 0, marker='o', markerfacecolor='green', markersize=2,label=\"output : 1\")\n",
        "plt.plot(x_red, y_red, color='red', linewidth = 0, marker='o', markerfacecolor='blue', markersize=2,label=\"output : -1\")\n",
        "\n",
        "plt.plot(x_boundary, y_boundary, color='blue', linewidth = 1, marker='o', markerfacecolor='blue', markersize=0,label=\"perceptron decision boundary\")\n",
        "plt.plot(x_boundary_svm, y_boundary_svm, color='black', linewidth = 1, marker='o', markerfacecolor='blue', markersize=0,label=\"SVM decision boundary\")\n",
        "\n",
        "plt.legend()\n",
        "plt.show()"
      ],
      "execution_count": 25,
      "outputs": [
        {
          "output_type": "display_data",
          "data": {
            "image/png": "[encoded data removed]",
            "text/plain": [
              "<Figure size 432x288 with 1 Axes>"
            ]
          },
          "metadata": {
            "tags": []
          }
        }
      ]
    },
    {
      "cell_type": "code",
      "metadata": {
        "id": "fudsEQG0Uojs",
        "colab_type": "code",
        "colab": {
          "base_uri": "https://localhost:8080/",
          "height": 34
        },
        "outputId": "de146e48-8c05-4571-961d-c798bbb7c16c"
      },
      "source": [
        "def error_perceptron(test_data, weights):\n",
        "  \n",
        "  e=0\n",
        "  for i in range(len(test_data)):\n",
        "    x = np.array(test_data[i][0])\n",
        "    yn = train_data[i][1]\n",
        "    yn_predicted = sign(np.matmul(weights.T,x))\n",
        "    e = e + (yn-yn_predicted)**2\n",
        "    \n",
        "  return e**0.5\n",
        "\n",
        "\n",
        "def error_svm(test_data, weights, bias):\n",
        "  \n",
        "  e=0\n",
        "  for i in range(len(test_data)):\n",
        "    \n",
        "    x = np.array(test_data[i][0])\n",
        "    yn = train_data[i][1]\n",
        "    \n",
        "    weights_s = np.array(weights)\n",
        "    weights_s = np.concatenate(([bias],weights_svm))\n",
        "    \n",
        "    yn_predicted = sign(np.matmul(weights_s.T,x))\n",
        "    e = e + (yn-yn_predicted)**2\n",
        "    \n",
        "  return e**0.5\n",
        "\n",
        "print(error_perceptron(test_data, weights_perceptron), error_svm(test_data, weights_svm, bias))"
      ],
      "execution_count": 26,
      "outputs": [
        {
          "output_type": "stream",
          "text": [
            "6.6332495807108 6.6332495807108\n"
          ],
          "name": "stdout"
        }
      ]
    },
    {
      "cell_type": "code",
      "metadata": {
        "id": "kGVgnMMQSDou",
        "colab_type": "code",
        "colab": {
          "base_uri": "https://localhost:8080/",
          "height": 317
        },
        "outputId": "fc1d8aa4-c0a1-47d4-d511-6af9e73facab"
      },
      "source": [
        "def add_noise(test_data, sd):\n",
        "  \n",
        "  ans = test_data.copy()\n",
        "  noise = np.random.normal(0, sd, (len(test_data),2))\n",
        "  \n",
        "  for i in range(len(test_data)):\n",
        "    \n",
        "    ans[i][0][1] += noise[i][0]\n",
        "    ans[i][0][2] += noise[i][1]\n",
        "    \n",
        "  return ans\n",
        "\n",
        "e_perceptron = []\n",
        "e_svm = []\n",
        "sd = [i/10 for i in range(0,6)]\n",
        "\n",
        "print(error_perceptron(add_noise(test_data,0), weights_perceptron))\n",
        "print(error_svm(add_noise(test_data,0), weights_svm, bias))\n",
        "\n",
        "\n",
        "\n",
        "for item in sd:\n",
        "  \n",
        "  noisy_data = add_noise(test_data, item)\n",
        "  \n",
        "  e_perceptron.append(error_perceptron(noisy_data, weights_perceptron))\n",
        "  e_svm.append(error_svm(noisy_data, weights_svm, bias))\n",
        "  \n",
        "  \n",
        "\n",
        "\n",
        "plt.plot(sd, e_perceptron, color='blue', linewidth = 1, marker='o', markerfacecolor='blue', markersize=0,label=\"test error for perceptron \")\n",
        "plt.plot(sd, e_svm, color='black', linewidth = 1, marker='o', markerfacecolor='blue', markersize=0,label=\"test error for SVM\")\n",
        "plt.xlabel(\"standard deviation of noise\")\n",
        "plt.ylabel(\"test error\")\n",
        "plt.legend()\n",
        "plt.show()\n",
        "  \n",
        "  \n"
      ],
      "execution_count": 36,
      "outputs": [
        {
          "output_type": "stream",
          "text": [
            "6.928203230275509\n",
            "6.928203230275509\n"
          ],
          "name": "stdout"
        },
        {
          "output_type": "display_data",
          "data": {
            "image/png": "[encoded data removed]",
            "text/plain": [
              "<Figure size 432x288 with 1 Axes>"
            ]
          },
          "metadata": {
            "tags": []
          }
        }
      ]
    }
  ]
}