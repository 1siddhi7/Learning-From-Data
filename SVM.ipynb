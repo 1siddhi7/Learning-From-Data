{
  "nbformat": 4,
  "nbformat_minor": 0,
  "metadata": {
    "colab": {
      "name": "SVM.ipynb",
      "version": "0.3.2",
      "provenance": [],
      "collapsed_sections": [],
      "include_colab_link": true
    },
    "kernelspec": {
      "name": "python3",
      "display_name": "Python 3"
    }
  },
  "cells": [
    {
      "cell_type": "markdown",
      "metadata": {
        "id": "view-in-github",
        "colab_type": "text"
      },
      "source": [
        "<a href=\"https://colab.research.google.com/github/1siddhi7/Learning-From-Data/blob/master/SVM.ipynb\" target=\"_parent\"><img src=\"https://colab.research.google.com/assets/colab-badge.svg\" alt=\"Open In Colab\"/></a>"
      ]
    },
    {
      "cell_type": "code",
      "metadata": {
        "id": "rnRg9SxPHOYt",
        "colab_type": "code",
        "outputId": "6707bcde-96cc-459e-8b73-763d05d5267d",
        "colab": {
          "base_uri": "https://localhost:8080/",
          "height": 50
        }
      },
      "source": [
        "import numpy as np\n",
        "import random\n",
        "import matplotlib.pyplot as plt\n",
        "!pip install qpsolvers"
      ],
      "execution_count": 0,
      "outputs": [
        {
          "output_type": "stream",
          "text": [
            "Requirement already satisfied: qpsolvers in /usr/local/lib/python3.6/dist-packages (1.0.5)\n",
            "Requirement already satisfied: quadprog in /usr/local/lib/python3.6/dist-packages (from qpsolvers) (0.1.6)\n"
          ],
          "name": "stdout"
        }
      ]
    },
    {
      "cell_type": "code",
      "metadata": {
        "id": "jIIpPzuSH9YA",
        "colab_type": "code",
        "outputId": "e2a9655c-5a41-4f86-ada7-7ce8d5d0e937",
        "colab": {
          "base_uri": "https://localhost:8080/",
          "height": 269
        }
      },
      "source": [
        "import random\n",
        "import matplotlib.pyplot as plt\n",
        "\n",
        "\n",
        "\n",
        "x_l = np.random.uniform(-5,5,60)\n",
        "y_l = 5*x_l + 3 + np.random.uniform(5,15,60)\n",
        "xl = list(x_l)\n",
        "yl = list(y_l)\n",
        "\n",
        "x=[]\n",
        "y=[]\n",
        "\n",
        "data = []\n",
        "for i in range(60):\n",
        "  data.append([[1,xl[i],yl[i]],1])\n",
        "  x.append([xl[i],yl[i]])\n",
        "  y.append(yl[i])\n",
        "\n",
        "x_r = np.random.uniform(-5,5,60)\n",
        "y_r = 5*x_r + 3 - np.random.uniform(1,15,60)\n",
        "xr = list(x_r)\n",
        "yr = list(y_r)\n",
        "\n",
        "\n",
        "\n",
        "for i in range(60):\n",
        "  data.append([[1,xr[i],yr[i]],-1])\n",
        "  x.append([xr[i],yr[i]])\n",
        "  y.append(yr[i])\n",
        "  \n",
        "plt.plot(xl, yl, color='green', linewidth = 0, marker='o', markerfacecolor='green', markersize=3,label=\"output : 1\")\n",
        "plt.plot(xr, yr, color='red', linewidth = 0, marker='o', markerfacecolor='red', markersize=3,label=\"output : -1\")\n",
        "plt.legend()\n",
        "plt.show()\n",
        "\n",
        "random.shuffle(data)"
      ],
      "execution_count": 0,
      "outputs": [
        {
          "output_type": "display_data",
          "data": {
            "image/png": "[encoded data removed]",
            "text/plain": [
              "<Figure size 432x288 with 1 Axes>"
            ]
          },
          "metadata": {
            "tags": []
          }
        }
      ]
    },
    {
      "cell_type": "code",
      "metadata": {
        "id": "WryzG-tmXnZs",
        "colab_type": "code",
        "outputId": "d40d73c1-770c-4671-f26f-e8be33022023",
        "colab": {
          "base_uri": "https://localhost:8080/",
          "height": 34
        }
      },
      "source": [
        "#using 80% of the data for training\n",
        "cut_point = int(len(data) * 0.8)\n",
        "train_data=data[:cut_point]\n",
        "\n",
        "#using remaining 20% of the data for testing\n",
        "test_data=data[cut_point:]\n",
        "\n",
        "def sign(x):\n",
        "    if x>=0:\n",
        "        return 1\n",
        "    if x<0:\n",
        "        return -1\n",
        "\n",
        "#defining a function which returns 1 if there is\n",
        "#even a single misclassified point in the predicted\n",
        "#output and returns 0 if there is no misclassified point.\n",
        "def misclassified(data,weights):\n",
        "    flag=0\n",
        "    for i in range(len(data)):\n",
        "        x=np.array(data[i][0])\n",
        "        y=data[i][1]\n",
        "        if(sign(np.matmul(weights.T,x))!=y):\n",
        "            flag=1\n",
        "            break\n",
        "    return flag\n",
        "\n",
        "weights=np.array([0,0,0])  #initializing the weights vector\n",
        "\n",
        "error=[]\n",
        "iteration=0\n",
        "e=0\n",
        "\n",
        "for j in range(len(train_data)):\n",
        "    x=np.array(train_data[j][0])\n",
        "    yn=train_data[j][1]\n",
        "    yn_predicted=sign(np.matmul(weights.T,x))\n",
        "    e = e + (yn-yn_predicted)**2\n",
        "e=e**0.5  #the initial root mean square error with weights vector as 0 vector\n",
        "\n",
        "error.append([iteration,e])\n",
        "\n",
        "#training using pla; it surely converges for linearly separable data   \n",
        "while(misclassified(train_data,weights)):\n",
        "    for i in range(len(train_data)):\n",
        "        x=np.array(train_data[i][0])\n",
        "        yn=train_data[i][1]\n",
        "        flag=0\n",
        "        if(sign(np.matmul(weights.T,x))!=yn):\n",
        "            \n",
        "            flag=1\n",
        "            \n",
        "            iteration=iteration+1\n",
        "            \n",
        "            weights=weights+yn*x\n",
        "\n",
        "        if(flag==1):\n",
        "            e=0\n",
        "            for j in range(len(train_data)):\n",
        "                x=np.array(train_data[j][0])\n",
        "                yn=train_data[j][1]\n",
        "                yn_predicted=sign(np.matmul(weights.T,x))\n",
        "                e = e + (yn-yn_predicted)**2\n",
        "            e=e**0.5      \n",
        "            \n",
        "            error.append([iteration,e])\n",
        "        if(flag==1):\n",
        "            break\n",
        "\n",
        "            \n",
        "print(weights)"
      ],
      "execution_count": 0,
      "outputs": [
        {
          "output_type": "stream",
          "text": [
            "[-44.         -94.55169189  18.29063209]\n"
          ],
          "name": "stdout"
        }
      ]
    },
    {
      "cell_type": "code",
      "metadata": {
        "id": "lm6o3N0BYaPN",
        "colab_type": "code",
        "outputId": "8cc6938e-9e8e-4e2c-ec4b-33f33f57f4ef",
        "colab": {
          "base_uri": "https://localhost:8080/",
          "height": 269
        }
      },
      "source": [
        "test_x = []\n",
        "test_y = []\n",
        "test_label = []\n",
        "\n",
        "for i in range(len(test_data)):\n",
        "  \n",
        "  test_x.append(test_data[i][0][1])\n",
        "  test_y.append(test_data[i][0][2])\n",
        "  test_label.append(test_data[i][1])\n",
        "\n",
        "  \n",
        "x_green=[]\n",
        "y_green=[]\n",
        "x_red=[]\n",
        "y_red=[]\n",
        "\n",
        "for i in range(len(train_data)):\n",
        "    if(train_data[i][1]==1):\n",
        "        x_green.append(train_data[i][0][1])\n",
        "        y_green.append(train_data[i][0][2])\n",
        "    elif (train_data[i][1]==-1):\n",
        "        x_red.append(train_data[i][0][1])\n",
        "        y_red.append(train_data[i][0][2])\n",
        "        \n",
        "plt.plot(x_green, y_green, color='green', linewidth = 0, marker='o', markerfacecolor='green', markersize=2,label=\"output : 1\")\n",
        "plt.plot(x_red, y_red, color='red', linewidth = 0, marker='o', markerfacecolor='blue', markersize=2,label=\"output : -1\")\n",
        "\n",
        "x_boundary = np.linspace(-5,5,2)\n",
        "y_boundary = (-weights[1]/weights[2])*x_boundary +(-weights[0]/weights[2])\n",
        "\n",
        "plt.plot(x_boundary, y_boundary, color='blue', linewidth = 2, marker='o', markerfacecolor='blue', markersize=0,label=\"perceptron decision boundary\")\n",
        "\n",
        "plt.legend()\n",
        "plt.show()\n"
      ],
      "execution_count": 0,
      "outputs": [
        {
          "output_type": "display_data",
          "data": {
            "image/png": "[encoded data removed]",
            "text/plain": [
              "<Figure size 432x288 with 1 Axes>"
            ]
          },
          "metadata": {
            "tags": []
          }
        }
      ]
    },
    {
      "cell_type": "code",
      "metadata": {
        "id": "i9NB7cfJGToo",
        "colab_type": "code",
        "outputId": "7f571f20-26b9-471c-d5bd-e95b7b1ace18",
        "colab": {
          "base_uri": "https://localhost:8080/",
          "height": 319
        }
      },
      "source": [
        "from cvxopt import matrix, solvers\n",
        "\n",
        "from qpsolvers import solve_qp\n",
        "N = len(train_data)\n",
        "\n",
        "P = []\n",
        "\n",
        "for i in range(N):\n",
        "  for j in range(N):\n",
        "    P.append(train_data[j][1]*train_data[i][1]*(np.dot(train_data[j][0][1:],train_data[i][0][1:])))\n",
        "    \n",
        "P = matrix(P,(N,N))\n",
        "\n",
        "q = np.ones((N,))*-1\n",
        "q = matrix(q)\n",
        "\n",
        "A = np.zeros((N,))\n",
        "\n",
        "for i in range(N):\n",
        "  A[i]=(train_data[i][1])\n",
        "  \n",
        "A = matrix(A,(1,N))\n",
        "\n",
        "\n",
        "b = [0.0]\n",
        "b = matrix(b)\n",
        "\n",
        "G = np.identity(N)*-1\n",
        "G = matrix(G)\n",
        "\n",
        "\n",
        "h = np.zeros((N,))\n",
        "h = matrix(h)\n",
        "#print(A.typecode)\n",
        "#print(\"P = \",P)\n",
        "#print(\"q = \",q)\n",
        "#print(\"G = \",G)\n",
        "#print(\"h = \",h)\n",
        "#print(\"A = \",A)\n",
        "#print(\"b = \",b)\n",
        "\n",
        "\n",
        "alpha = solvers.qp(P, q, G, h, A, b)\n",
        "#print(alpha['x'][32])\n",
        "\n",
        "a = []\n",
        "for i in range(N):\n",
        "  a.append(alpha['x'][i])\n",
        "\n",
        "weights = [0,0]\n",
        "\n",
        "for i in range(N):\n",
        "  weights[0] += alpha['x'][i]*train_data[i][1]*train_data[i][0][1]\n",
        "  weights[1] += alpha['x'][i]*train_data[i][1]*train_data[i][0][2]\n",
        "  \n",
        "print(weights)\n",
        "\n",
        "bias = (1/train_data[a.index(max(a))][1]) - (weights[0]*train_data[a.index(max(a))][0][1] + weights[1]*train_data[a.index(max(a))][0][2])\n",
        "\n",
        "print(bias)\n",
        "\n",
        "print(weights)\n",
        "\n",
        "x_green_svm=[]\n",
        "y_green_svm=[]\n",
        "x_red_svm=[]\n",
        "y_red_svm=[]\n",
        "\n",
        "for i in range(len(train_data)):\n",
        "    if(train_data[i][1]==1):\n",
        "        x_green_svm.append(train_data[i][0][1])\n",
        "        y_green_svm.append(train_data[i][0][2])\n",
        "    elif (train_data[i][1]==-1):\n",
        "        x_red_svm.append(train_data[i][0][1])\n",
        "        y_red_svm.append(train_data[i][0][2])\n",
        "        \n",
        "plt.plot(x_green_svm, y_green_svm, color='green', linewidth = 0, marker='o', markerfacecolor='green', markersize=2,label=\"output : 1\")\n",
        "plt.plot(x_red_svm, y_red_svm, color='red', linewidth = 0, marker='o', markerfacecolor='blue', markersize=2,label=\"output : -1\")\n",
        "\n",
        "x_boundary_svm = np.linspace(-5,5,2)\n",
        "y_boundary_svm = (-weights[0]/weights[1])*x_boundary_svm +(-bias/weights[1])\n",
        "\n",
        "plt.plot(x_boundary_svm, y_boundary_svm, color='blue', linewidth = 2, marker='o', markerfacecolor='blue', markersize=0,label=\"SVM decision boundary\")\n",
        "\n",
        "plt.legend()\n",
        "plt.show()"
      ],
      "execution_count": 0,
      "outputs": [
        {
          "output_type": "stream",
          "text": [
            "[-1.5755082932304447, 0.30831233400406105]\n",
            "-1.519509370020275\n",
            "[-1.5755082932304447, 0.30831233400406105]\n"
          ],
          "name": "stdout"
        },
        {
          "output_type": "display_data",
          "data": {
            "image/png": "[encoded data removed]",
            "text/plain": [
              "<Figure size 432x288 with 1 Axes>"
            ]
          },
          "metadata": {
            "tags": []
          }
        }
      ]
    }
  ]
}